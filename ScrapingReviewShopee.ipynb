{
  "nbformat": 4,
  "nbformat_minor": 0,
  "metadata": {
    "colab": {
      "name": "ScrapingReviewShopee.ipynb",
      "provenance": []
    },
    "kernelspec": {
      "name": "python3",
      "display_name": "Python 3"
    }
  },
  "cells": [
    {
      "cell_type": "code",
      "metadata": {
        "id": "eeoDRC5hBz96"
      },
      "source": [
        "# Import package\n",
        "import requests\n",
        "import pandas as pd\n",
        "from datetime import datetime"
      ],
      "execution_count": null,
      "outputs": []
    },
    {
      "cell_type": "code",
      "metadata": {
        "id": "kx-SX13M8fh1"
      },
      "source": [
        "def get_review_shopee(itemid='4048589656', shopid='17588883'): \n",
        "  limit = 50\n",
        "  since = 0\n",
        "  review_count = 0\n",
        "  reviews = []\n",
        "  \n",
        "  while True:\n",
        "    # Assign URL to variable: url\n",
        "    url = 'https://shopee.co.th/api/v2/item/get_ratings?filter=1&flag=1&itemid='+itemid+'&limit='+str(limit)+'&offset='+str(since)+'&shopid='+shopid+'&type=0'\n",
        "    #print(url)\n",
        "    r = requests.get(url)\n",
        "    json_data = r.json()\n",
        "    if json_data['data']['ratings']: # if have review\n",
        "      for review in json_data['data']['ratings']:\n",
        "        review['ctime'] = datetime.fromtimestamp(review['ctime'])\n",
        "        review['mtime'] = datetime.fromtimestamp(review['mtime'])\n",
        "        reviews.append(review)\n",
        "      review_count += len(json_data['data']['ratings'])\n",
        "      print(f'Downloaded {review_count} reviews')\n",
        "    else:                            # if don't have review\n",
        "      print('No more review found.')\n",
        "      break\n",
        "    since = review_count\n",
        "  return pd.DataFrame(reviews)"
      ],
      "execution_count": null,
      "outputs": []
    },
    {
      "cell_type": "code",
      "metadata": {
        "id": "7075gyhuCJgr"
      },
      "source": [
        "# Assign URL to variable: url\n",
        "url1 = 'https://shopee.co.th/api/v2/item/get_ratings?filter=1&flag=1&itemid=220882155&limit=2&offset=0&shopid=773245&type=0'\n",
        "url2 = 'https://shopee.co.th/api/v2/item/get_ratings?filter=1&flag=1&itemid=220882155&limit=2&offset=2&shopid=773245&type=0'\n",
        "#type = star\n",
        "#type = 0 = all star\n",
        "#filter = 1 = review only"
      ],
      "execution_count": null,
      "outputs": []
    },
    {
      "cell_type": "code",
      "metadata": {
        "id": "ncpd2IrJCY2H"
      },
      "source": [
        "# Package the request, send the request and catch the response: r\n",
        "r1 = requests.get(url1)\n",
        "r2 = requests.get(url2)"
      ],
      "execution_count": null,
      "outputs": []
    },
    {
      "cell_type": "code",
      "metadata": {
        "id": "rPrxu64PCazw"
      },
      "source": [
        "# Decode the JSON data into a dictionary: json_data\n",
        "json_data1 = r1.json()\n",
        "json_data2 = r2.json()"
      ],
      "execution_count": null,
      "outputs": []
    },
    {
      "cell_type": "code",
      "metadata": {
        "id": "9dlZzDcpRrzb"
      },
      "source": [
        "reviews = []\n",
        "review_count = 0"
      ],
      "execution_count": null,
      "outputs": []
    },
    {
      "cell_type": "code",
      "metadata": {
        "id": "ONBSEVyXGQdj",
        "colab": {
          "base_uri": "https://localhost:8080/",
          "height": 34
        },
        "outputId": "2e959b8c-6d27-48a6-8055-dcaa85f05460"
      },
      "source": [
        "for review in json_data1['data']['ratings']:\n",
        "  reviews.append(review)\n",
        "review_count += len(json_data1['data']['ratings'])\n",
        "print(f'Downloaded {review_count} reviews')"
      ],
      "execution_count": null,
      "outputs": [
        {
          "output_type": "stream",
          "text": [
            "Downloaded 2 reviews\n"
          ],
          "name": "stdout"
        }
      ]
    },
    {
      "cell_type": "code",
      "metadata": {
        "id": "sguSAbVPR8Kf",
        "colab": {
          "base_uri": "https://localhost:8080/",
          "height": 34
        },
        "outputId": "708fc637-2f98-4070-aef5-371eb4856534"
      },
      "source": [
        "for review in json_data2['data']['ratings']:\n",
        "  reviews.append(review)\n",
        "review_count += len(json_data2['data']['ratings'])\n",
        "print(f'Downloaded {review_count} reviews')"
      ],
      "execution_count": null,
      "outputs": [
        {
          "output_type": "stream",
          "text": [
            "Downloaded 4 reviews\n"
          ],
          "name": "stdout"
        }
      ]
    },
    {
      "cell_type": "code",
      "metadata": {
        "id": "78AhQXCVOQVB"
      },
      "source": [
        "df_review = pd.DataFrame(reviews)"
      ],
      "execution_count": null,
      "outputs": []
    },
    {
      "cell_type": "code",
      "metadata": {
        "id": "QJsdatYDSSGL",
        "colab": {
          "base_uri": "https://localhost:8080/",
          "height": 533
        },
        "outputId": "b19895c8-8c3f-43d4-b8b3-5afe1489bf6a"
      },
      "source": [
        "df_review"
      ],
      "execution_count": null,
      "outputs": [
        {
          "output_type": "execute_result",
          "data": {
            "text/html": [
              "<div>\n",
              "<style scoped>\n",
              "    .dataframe tbody tr th:only-of-type {\n",
              "        vertical-align: middle;\n",
              "    }\n",
              "\n",
              "    .dataframe tbody tr th {\n",
              "        vertical-align: top;\n",
              "    }\n",
              "\n",
              "    .dataframe thead th {\n",
              "        text-align: right;\n",
              "    }\n",
              "</style>\n",
              "<table border=\"1\" class=\"dataframe\">\n",
              "  <thead>\n",
              "    <tr style=\"text-align: right;\">\n",
              "      <th></th>\n",
              "      <th>ItemRatingReply</th>\n",
              "      <th>anonymous</th>\n",
              "      <th>author_portrait</th>\n",
              "      <th>author_shopid</th>\n",
              "      <th>author_username</th>\n",
              "      <th>cmtid</th>\n",
              "      <th>comment</th>\n",
              "      <th>ctime</th>\n",
              "      <th>delete_operator</th>\n",
              "      <th>delete_reason</th>\n",
              "      <th>editable</th>\n",
              "      <th>editable_date</th>\n",
              "      <th>filter</th>\n",
              "      <th>images</th>\n",
              "      <th>is_hidden</th>\n",
              "      <th>itemid</th>\n",
              "      <th>like_count</th>\n",
              "      <th>liked</th>\n",
              "      <th>mentioned</th>\n",
              "      <th>mtime</th>\n",
              "      <th>opt</th>\n",
              "      <th>orderid</th>\n",
              "      <th>product_items</th>\n",
              "      <th>rating</th>\n",
              "      <th>rating_star</th>\n",
              "      <th>shopid</th>\n",
              "      <th>show_reply</th>\n",
              "      <th>status</th>\n",
              "      <th>tags</th>\n",
              "      <th>userid</th>\n",
              "    </tr>\n",
              "  </thead>\n",
              "  <tbody>\n",
              "    <tr>\n",
              "      <th>0</th>\n",
              "      <td>{'orderid': None, 'itemid': None, 'cmtid': Non...</td>\n",
              "      <td>True</td>\n",
              "      <td>ff60d1069ff08612a21068ddfbd86877</td>\n",
              "      <td>4394592</td>\n",
              "      <td>b*****e</td>\n",
              "      <td>1283612877</td>\n",
              "      <td>-เนื้อครีมมีกลิ่นหอมดีค่ะ สั่งวันที่ 29 ได้รับ...</td>\n",
              "      <td>1559371567</td>\n",
              "      <td>None</td>\n",
              "      <td>None</td>\n",
              "      <td>0</td>\n",
              "      <td>None</td>\n",
              "      <td>3</td>\n",
              "      <td>[e246bcc21fdddb2da068370f141b789f, 92fcb4886bf...</td>\n",
              "      <td>False</td>\n",
              "      <td>220882155</td>\n",
              "      <td>3.0</td>\n",
              "      <td>None</td>\n",
              "      <td>[]</td>\n",
              "      <td>1559371567</td>\n",
              "      <td>2</td>\n",
              "      <td>None</td>\n",
              "      <td>[{'itemid': 220882155, 'welcome_package_info':...</td>\n",
              "      <td>1</td>\n",
              "      <td>4</td>\n",
              "      <td>773245</td>\n",
              "      <td>None</td>\n",
              "      <td>2</td>\n",
              "      <td>None</td>\n",
              "      <td>4395879</td>\n",
              "    </tr>\n",
              "    <tr>\n",
              "      <th>1</th>\n",
              "      <td>{'orderid': None, 'itemid': None, 'cmtid': Non...</td>\n",
              "      <td>True</td>\n",
              "      <td>672c9365cba736d8f724ebf8d8133c78</td>\n",
              "      <td>13863523</td>\n",
              "      <td>a*****p</td>\n",
              "      <td>1277638523</td>\n",
              "      <td>สินค้าดีค่ะ คิดว่าของแท้นะ เพราะน้ำกับกลิ่นและ...</td>\n",
              "      <td>1559190646</td>\n",
              "      <td>None</td>\n",
              "      <td>None</td>\n",
              "      <td>0</td>\n",
              "      <td>None</td>\n",
              "      <td>3</td>\n",
              "      <td>[650c57f15d8a83b61692574bc2f7d394, 937f40a7ce9...</td>\n",
              "      <td>False</td>\n",
              "      <td>220882155</td>\n",
              "      <td>1.0</td>\n",
              "      <td>None</td>\n",
              "      <td>[]</td>\n",
              "      <td>1559190646</td>\n",
              "      <td>2</td>\n",
              "      <td>None</td>\n",
              "      <td>[{'itemid': 220882155, 'welcome_package_info':...</td>\n",
              "      <td>1</td>\n",
              "      <td>5</td>\n",
              "      <td>773245</td>\n",
              "      <td>None</td>\n",
              "      <td>2</td>\n",
              "      <td>None</td>\n",
              "      <td>13864827</td>\n",
              "    </tr>\n",
              "    <tr>\n",
              "      <th>2</th>\n",
              "      <td>{'orderid': None, 'itemid': None, 'cmtid': Non...</td>\n",
              "      <td>True</td>\n",
              "      <td>edada3008be15931f6c79312b5da1dac</td>\n",
              "      <td>63051574</td>\n",
              "      <td>n*****t</td>\n",
              "      <td>1251378888</td>\n",
              "      <td>สั่งร้านนี้แล้วประทับใจในการแพคเกจสินค้ามากๆ​ ...</td>\n",
              "      <td>1558372963</td>\n",
              "      <td>None</td>\n",
              "      <td>None</td>\n",
              "      <td>0</td>\n",
              "      <td>None</td>\n",
              "      <td>3</td>\n",
              "      <td>[d19987ce050f629519fe49ee9f00306f, 3f85ef7f3c7...</td>\n",
              "      <td>False</td>\n",
              "      <td>220882155</td>\n",
              "      <td>NaN</td>\n",
              "      <td>None</td>\n",
              "      <td>[]</td>\n",
              "      <td>1558372963</td>\n",
              "      <td>2</td>\n",
              "      <td>None</td>\n",
              "      <td>[{'itemid': 220882155, 'welcome_package_info':...</td>\n",
              "      <td>1</td>\n",
              "      <td>5</td>\n",
              "      <td>773245</td>\n",
              "      <td>None</td>\n",
              "      <td>2</td>\n",
              "      <td>None</td>\n",
              "      <td>63053016</td>\n",
              "    </tr>\n",
              "    <tr>\n",
              "      <th>3</th>\n",
              "      <td>{'orderid': None, 'itemid': None, 'cmtid': Non...</td>\n",
              "      <td>True</td>\n",
              "      <td>b63757fd8791fdb1dfcc0891ca051687</td>\n",
              "      <td>59733226</td>\n",
              "      <td>p*****t</td>\n",
              "      <td>1336417865</td>\n",
              "      <td>สินค้าดี มีคุณภาพ ..สินค้าดี มีคุณภาพ ..สินค้า...</td>\n",
              "      <td>1561631774</td>\n",
              "      <td>None</td>\n",
              "      <td>None</td>\n",
              "      <td>0</td>\n",
              "      <td>None</td>\n",
              "      <td>3</td>\n",
              "      <td>[791ef64f978910f08e99257c170ce609]</td>\n",
              "      <td>False</td>\n",
              "      <td>220882155</td>\n",
              "      <td>NaN</td>\n",
              "      <td>None</td>\n",
              "      <td>[]</td>\n",
              "      <td>1561631774</td>\n",
              "      <td>2</td>\n",
              "      <td>None</td>\n",
              "      <td>[{'itemid': 220882155, 'welcome_package_info':...</td>\n",
              "      <td>1</td>\n",
              "      <td>5</td>\n",
              "      <td>773245</td>\n",
              "      <td>None</td>\n",
              "      <td>1</td>\n",
              "      <td>None</td>\n",
              "      <td>59734656</td>\n",
              "    </tr>\n",
              "  </tbody>\n",
              "</table>\n",
              "</div>"
            ],
            "text/plain": [
              "                                     ItemRatingReply  anonymous  ...  tags    userid\n",
              "0  {'orderid': None, 'itemid': None, 'cmtid': Non...       True  ...  None   4395879\n",
              "1  {'orderid': None, 'itemid': None, 'cmtid': Non...       True  ...  None  13864827\n",
              "2  {'orderid': None, 'itemid': None, 'cmtid': Non...       True  ...  None  63053016\n",
              "3  {'orderid': None, 'itemid': None, 'cmtid': Non...       True  ...  None  59734656\n",
              "\n",
              "[4 rows x 30 columns]"
            ]
          },
          "metadata": {
            "tags": []
          },
          "execution_count": 78
        }
      ]
    },
    {
      "cell_type": "code",
      "metadata": {
        "id": "KWNFcJbABer4",
        "colab": {
          "base_uri": "https://localhost:8080/",
          "height": 34
        },
        "outputId": "320f773e-a3bb-4e42-82f4-c5e0ba1a1d03"
      },
      "source": [
        "df_review.shape"
      ],
      "execution_count": null,
      "outputs": [
        {
          "output_type": "execute_result",
          "data": {
            "text/plain": [
              "(4, 30)"
            ]
          },
          "metadata": {
            "tags": []
          },
          "execution_count": 81
        }
      ]
    },
    {
      "cell_type": "code",
      "metadata": {
        "id": "1l2C6aBjBxSO",
        "colab": {
          "base_uri": "https://localhost:8080/",
          "height": 136
        },
        "outputId": "f3bf3a3b-db7c-4a27-d23b-f7741dbac01d"
      },
      "source": [
        "df_review.columns"
      ],
      "execution_count": null,
      "outputs": [
        {
          "output_type": "execute_result",
          "data": {
            "text/plain": [
              "Index(['ItemRatingReply', 'anonymous', 'author_portrait', 'author_shopid',\n",
              "       'author_username', 'cmtid', 'comment', 'ctime', 'delete_operator',\n",
              "       'delete_reason', 'editable', 'editable_date', 'filter', 'images',\n",
              "       'is_hidden', 'itemid', 'like_count', 'liked', 'mentioned', 'mtime',\n",
              "       'opt', 'orderid', 'product_items', 'rating', 'rating_star', 'shopid',\n",
              "       'show_reply', 'status', 'tags', 'userid'],\n",
              "      dtype='object')"
            ]
          },
          "metadata": {
            "tags": []
          },
          "execution_count": 93
        }
      ]
    },
    {
      "cell_type": "code",
      "metadata": {
        "id": "7gkXrD1VCdmv"
      },
      "source": [
        "review_df = pd.DataFrame(json_data['data']['ratings'])"
      ],
      "execution_count": null,
      "outputs": []
    },
    {
      "cell_type": "code",
      "metadata": {
        "id": "0E7jJN6x58Ii",
        "colab": {
          "base_uri": "https://localhost:8080/",
          "height": 550
        },
        "outputId": "f8d1bc71-f619-4800-e576-1ab38c4074b5"
      },
      "source": [
        "review_df.head()"
      ],
      "execution_count": null,
      "outputs": [
        {
          "output_type": "execute_result",
          "data": {
            "text/html": [
              "<div>\n",
              "<style scoped>\n",
              "    .dataframe tbody tr th:only-of-type {\n",
              "        vertical-align: middle;\n",
              "    }\n",
              "\n",
              "    .dataframe tbody tr th {\n",
              "        vertical-align: top;\n",
              "    }\n",
              "\n",
              "    .dataframe thead th {\n",
              "        text-align: right;\n",
              "    }\n",
              "</style>\n",
              "<table border=\"1\" class=\"dataframe\">\n",
              "  <thead>\n",
              "    <tr style=\"text-align: right;\">\n",
              "      <th></th>\n",
              "      <th>ItemRatingReply</th>\n",
              "      <th>anonymous</th>\n",
              "      <th>author_portrait</th>\n",
              "      <th>author_shopid</th>\n",
              "      <th>author_username</th>\n",
              "      <th>cmtid</th>\n",
              "      <th>comment</th>\n",
              "      <th>ctime</th>\n",
              "      <th>delete_operator</th>\n",
              "      <th>delete_reason</th>\n",
              "      <th>editable</th>\n",
              "      <th>editable_date</th>\n",
              "      <th>filter</th>\n",
              "      <th>images</th>\n",
              "      <th>is_hidden</th>\n",
              "      <th>itemid</th>\n",
              "      <th>like_count</th>\n",
              "      <th>liked</th>\n",
              "      <th>mentioned</th>\n",
              "      <th>mtime</th>\n",
              "      <th>opt</th>\n",
              "      <th>orderid</th>\n",
              "      <th>product_items</th>\n",
              "      <th>rating</th>\n",
              "      <th>rating_star</th>\n",
              "      <th>shopid</th>\n",
              "      <th>show_reply</th>\n",
              "      <th>status</th>\n",
              "      <th>tags</th>\n",
              "      <th>userid</th>\n",
              "    </tr>\n",
              "  </thead>\n",
              "  <tbody>\n",
              "    <tr>\n",
              "      <th>0</th>\n",
              "      <td>{'orderid': None, 'itemid': None, 'cmtid': Non...</td>\n",
              "      <td>True</td>\n",
              "      <td></td>\n",
              "      <td>97206122</td>\n",
              "      <td>d*****1</td>\n",
              "      <td>871772275</td>\n",
              "      <td>คุณภาพของสินค้าดีมาก ความรวดเร็วในการจัดส่งดีมาก</td>\n",
              "      <td>1540186902</td>\n",
              "      <td>None</td>\n",
              "      <td>None</td>\n",
              "      <td>0</td>\n",
              "      <td>NaN</td>\n",
              "      <td>1</td>\n",
              "      <td>None</td>\n",
              "      <td>False</td>\n",
              "      <td>220882155</td>\n",
              "      <td>None</td>\n",
              "      <td>None</td>\n",
              "      <td>[]</td>\n",
              "      <td>1540186902</td>\n",
              "      <td>2</td>\n",
              "      <td>None</td>\n",
              "      <td>[{'itemid': 220882155, 'welcome_package_info':...</td>\n",
              "      <td>1</td>\n",
              "      <td>5</td>\n",
              "      <td>773245</td>\n",
              "      <td>None</td>\n",
              "      <td>2</td>\n",
              "      <td>None</td>\n",
              "      <td>97207600</td>\n",
              "    </tr>\n",
              "    <tr>\n",
              "      <th>1</th>\n",
              "      <td>{'orderid': None, 'itemid': None, 'cmtid': Non...</td>\n",
              "      <td>True</td>\n",
              "      <td>34b99f877c5d0b17be4f3e739a121b02</td>\n",
              "      <td>102211383</td>\n",
              "      <td>n*****p</td>\n",
              "      <td>904384088</td>\n",
              "      <td>ความรวดเร็วในการจัดส่งดีมาก คุณภาพของสินค้าดีมาก</td>\n",
              "      <td>1541857753</td>\n",
              "      <td>None</td>\n",
              "      <td>None</td>\n",
              "      <td>0</td>\n",
              "      <td>NaN</td>\n",
              "      <td>1</td>\n",
              "      <td>None</td>\n",
              "      <td>False</td>\n",
              "      <td>220882155</td>\n",
              "      <td>None</td>\n",
              "      <td>None</td>\n",
              "      <td>[]</td>\n",
              "      <td>1541857753</td>\n",
              "      <td>2</td>\n",
              "      <td>None</td>\n",
              "      <td>[{'itemid': 220882155, 'welcome_package_info':...</td>\n",
              "      <td>1</td>\n",
              "      <td>5</td>\n",
              "      <td>773245</td>\n",
              "      <td>None</td>\n",
              "      <td>2</td>\n",
              "      <td>None</td>\n",
              "      <td>102212862</td>\n",
              "    </tr>\n",
              "    <tr>\n",
              "      <th>2</th>\n",
              "      <td>{'orderid': None, 'itemid': None, 'cmtid': Non...</td>\n",
              "      <td>True</td>\n",
              "      <td>7563167d14c5ade81e1f519b4280f66d</td>\n",
              "      <td>17625987</td>\n",
              "      <td>c*****.</td>\n",
              "      <td>952458232</td>\n",
              "      <td>ส่งช้ามาก</td>\n",
              "      <td>1544029849</td>\n",
              "      <td>None</td>\n",
              "      <td>None</td>\n",
              "      <td>0</td>\n",
              "      <td>NaN</td>\n",
              "      <td>1</td>\n",
              "      <td>None</td>\n",
              "      <td>False</td>\n",
              "      <td>220882155</td>\n",
              "      <td>None</td>\n",
              "      <td>None</td>\n",
              "      <td>[]</td>\n",
              "      <td>1544029849</td>\n",
              "      <td>2</td>\n",
              "      <td>None</td>\n",
              "      <td>[{'itemid': 220882155, 'welcome_package_info':...</td>\n",
              "      <td>0</td>\n",
              "      <td>3</td>\n",
              "      <td>773245</td>\n",
              "      <td>None</td>\n",
              "      <td>2</td>\n",
              "      <td>None</td>\n",
              "      <td>17627322</td>\n",
              "    </tr>\n",
              "    <tr>\n",
              "      <th>3</th>\n",
              "      <td>{'orderid': None, 'itemid': None, 'cmtid': Non...</td>\n",
              "      <td>True</td>\n",
              "      <td></td>\n",
              "      <td>2067377</td>\n",
              "      <td>p*****t</td>\n",
              "      <td>931600525</td>\n",
              "      <td>ความคุ้มค่าดีมาก</td>\n",
              "      <td>1543031061</td>\n",
              "      <td>None</td>\n",
              "      <td>None</td>\n",
              "      <td>0</td>\n",
              "      <td>NaN</td>\n",
              "      <td>1</td>\n",
              "      <td>None</td>\n",
              "      <td>False</td>\n",
              "      <td>220882155</td>\n",
              "      <td>None</td>\n",
              "      <td>None</td>\n",
              "      <td>[]</td>\n",
              "      <td>1543031061</td>\n",
              "      <td>2</td>\n",
              "      <td>None</td>\n",
              "      <td>[{'itemid': 220882155, 'welcome_package_info':...</td>\n",
              "      <td>1</td>\n",
              "      <td>5</td>\n",
              "      <td>773245</td>\n",
              "      <td>None</td>\n",
              "      <td>2</td>\n",
              "      <td>None</td>\n",
              "      <td>2068890</td>\n",
              "    </tr>\n",
              "    <tr>\n",
              "      <th>4</th>\n",
              "      <td>{'orderid': None, 'itemid': None, 'cmtid': Non...</td>\n",
              "      <td>True</td>\n",
              "      <td>50ee27fa2a5ce9222a31fee65aab11fc</td>\n",
              "      <td>26583329</td>\n",
              "      <td>n*****5</td>\n",
              "      <td>913871668</td>\n",
              "      <td>ความคุ้มค่าดี</td>\n",
              "      <td>1542273634</td>\n",
              "      <td>None</td>\n",
              "      <td>None</td>\n",
              "      <td>0</td>\n",
              "      <td>NaN</td>\n",
              "      <td>1</td>\n",
              "      <td>None</td>\n",
              "      <td>False</td>\n",
              "      <td>220882155</td>\n",
              "      <td>None</td>\n",
              "      <td>None</td>\n",
              "      <td>[]</td>\n",
              "      <td>1542273634</td>\n",
              "      <td>2</td>\n",
              "      <td>None</td>\n",
              "      <td>[{'itemid': 220882155, 'welcome_package_info':...</td>\n",
              "      <td>1</td>\n",
              "      <td>4</td>\n",
              "      <td>773245</td>\n",
              "      <td>None</td>\n",
              "      <td>2</td>\n",
              "      <td>None</td>\n",
              "      <td>26584665</td>\n",
              "    </tr>\n",
              "  </tbody>\n",
              "</table>\n",
              "</div>"
            ],
            "text/plain": [
              "                                     ItemRatingReply  ...     userid\n",
              "0  {'orderid': None, 'itemid': None, 'cmtid': Non...  ...   97207600\n",
              "1  {'orderid': None, 'itemid': None, 'cmtid': Non...  ...  102212862\n",
              "2  {'orderid': None, 'itemid': None, 'cmtid': Non...  ...   17627322\n",
              "3  {'orderid': None, 'itemid': None, 'cmtid': Non...  ...    2068890\n",
              "4  {'orderid': None, 'itemid': None, 'cmtid': Non...  ...   26584665\n",
              "\n",
              "[5 rows x 30 columns]"
            ]
          },
          "metadata": {
            "tags": []
          },
          "execution_count": 119
        }
      ]
    },
    {
      "cell_type": "code",
      "metadata": {
        "id": "Hy1Q44vY6Q_k",
        "colab": {
          "base_uri": "https://localhost:8080/"
        },
        "outputId": "a68cbe28-7298-46ac-a87b-544590250fa1"
      },
      "source": [
        "df = get_review_shopee()"
      ],
      "execution_count": null,
      "outputs": [
        {
          "output_type": "stream",
          "text": [
            "Downloaded 50 reviews\n",
            "Downloaded 60 reviews\n",
            "Downloaded 110 reviews\n",
            "Downloaded 120 reviews\n",
            "Downloaded 170 reviews\n",
            "Downloaded 180 reviews\n",
            "Downloaded 230 reviews\n",
            "Downloaded 240 reviews\n",
            "Downloaded 269 reviews\n",
            "No more review found.\n"
          ],
          "name": "stdout"
        }
      ]
    },
    {
      "cell_type": "code",
      "metadata": {
        "id": "jGRdOfScG52H",
        "colab": {
          "base_uri": "https://localhost:8080/"
        },
        "outputId": "d6438ca6-99a8-42df-ed84-6e6b07027be5"
      },
      "source": [
        "df.shape"
      ],
      "execution_count": null,
      "outputs": [
        {
          "output_type": "execute_result",
          "data": {
            "text/plain": [
              "(269, 38)"
            ]
          },
          "metadata": {
            "tags": []
          },
          "execution_count": 5
        }
      ]
    },
    {
      "cell_type": "code",
      "metadata": {
        "id": "cnfzYfm1i_m0",
        "colab": {
          "base_uri": "https://localhost:8080/",
          "height": 164
        },
        "outputId": "c0883b55-b61e-4943-e8e5-70d9af641f94"
      },
      "source": [
        "df.head()"
      ],
      "execution_count": null,
      "outputs": [
        {
          "output_type": "error",
          "ename": "NameError",
          "evalue": "ignored",
          "traceback": [
            "\u001b[0;31m---------------------------------------------------------------------------\u001b[0m",
            "\u001b[0;31mNameError\u001b[0m                                 Traceback (most recent call last)",
            "\u001b[0;32m<ipython-input-1-c42a15b2c7cf>\u001b[0m in \u001b[0;36m<module>\u001b[0;34m()\u001b[0m\n\u001b[0;32m----> 1\u001b[0;31m \u001b[0mdf\u001b[0m\u001b[0;34m.\u001b[0m\u001b[0mhead\u001b[0m\u001b[0;34m(\u001b[0m\u001b[0;34m)\u001b[0m\u001b[0;34m\u001b[0m\u001b[0;34m\u001b[0m\u001b[0m\n\u001b[0m",
            "\u001b[0;31mNameError\u001b[0m: name 'df' is not defined"
          ]
        }
      ]
    },
    {
      "cell_type": "code",
      "metadata": {
        "id": "arujX5jAjEJN"
      },
      "source": [
        ""
      ],
      "execution_count": null,
      "outputs": []
    }
  ]
}